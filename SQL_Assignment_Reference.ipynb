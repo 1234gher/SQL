{
  "nbformat": 4,
  "nbformat_minor": 0,
  "metadata": {
    "kernelspec": {
      "display_name": "Python 3",
      "language": "python",
      "name": "python3"
    },
    "language_info": {
      "codemirror_mode": {
        "name": "ipython",
        "version": 3
      },
      "file_extension": ".py",
      "mimetype": "text/x-python",
      "name": "python",
      "nbconvert_exporter": "python",
      "pygments_lexer": "ipython3",
      "version": "3.6.5"
    },
    "colab": {
      "name": "SQL_Assignment_Reference.ipynb",
      "provenance": [],
      "collapsed_sections": []
    }
  },
  "cells": [
    {
      "cell_type": "markdown",
      "metadata": {
        "id": "A4xPWEKhzmyZ",
        "colab_type": "text"
      },
      "source": [
        "# SQL Assignment"
      ]
    },
    {
      "cell_type": "code",
      "metadata": {
        "id": "NYL1VeZdzmya",
        "colab_type": "code",
        "colab": {}
      },
      "source": [
        "import pandas as pd\n",
        "import sqlite3"
      ],
      "execution_count": 0,
      "outputs": []
    },
    {
      "cell_type": "code",
      "metadata": {
        "id": "F02wZrAr2UH0",
        "colab_type": "code",
        "outputId": "9b573afe-250b-453b-bdab-e9de1afdf3c6",
        "colab": {
          "base_uri": "https://localhost:8080/",
          "height": 34
        }
      },
      "source": [
        "from google.colab import drive\n",
        "\n",
        "# This will prompt for authorization.\n",
        "drive.mount('/content/drive')"
      ],
      "execution_count": 0,
      "outputs": [
        {
          "output_type": "stream",
          "text": [
            "Drive already mounted at /content/drive; to attempt to forcibly remount, call drive.mount(\"/content/drive\", force_remount=True).\n"
          ],
          "name": "stdout"
        }
      ]
    },
    {
      "cell_type": "code",
      "metadata": {
        "id": "k9FMX4U53Dzg",
        "colab_type": "code",
        "outputId": "853a8d94-cd55-4aed-e8aa-857f29466727",
        "colab": {
          "base_uri": "https://localhost:8080/",
          "height": 51
        }
      },
      "source": [
        "!ls \"/content/drive/My Drive/Colab Notebooks\""
      ],
      "execution_count": 0,
      "outputs": [
        {
          "output_type": "stream",
          "text": [
            "Db-IMDB-Assignment.db\t\tUntitled0.ipynb  Untitled3.ipynb\n",
            "SQL_Assignment_Reference.ipynb\tUntitled1.ipynb  Untitled4.ipynb\n"
          ],
          "name": "stdout"
        }
      ]
    },
    {
      "cell_type": "code",
      "metadata": {
        "id": "VR20Fk7fzmyg",
        "colab_type": "code",
        "colab": {}
      },
      "source": [
        "conn = sqlite3.connect(\"/content/drive/My Drive/Colab Notebooks/Db-IMDB-Assignment.db\")"
      ],
      "execution_count": 0,
      "outputs": []
    },
    {
      "cell_type": "markdown",
      "metadata": {
        "id": "jSCGwUJpzmyj",
        "colab_type": "text"
      },
      "source": [
        "## Sample Code"
      ]
    },
    {
      "cell_type": "code",
      "metadata": {
        "id": "r72pnyLXzmyj",
        "colab_type": "code",
        "outputId": "f85bd4fe-5031-4529-f984-759c8a2325e1",
        "colab": {
          "base_uri": "https://localhost:8080/",
          "height": 289
        }
      },
      "source": [
        "%%time\n",
        "# Write your sql query below\n",
        "\n",
        "query = \"\"\"\n",
        "        SELECT title AS 'Movie_Name'\n",
        "        FROM Movie\n",
        "        WHERE rating < 3\n",
        "        \n",
        "        \"\"\"\n",
        "\n",
        "q = pd.read_sql_query(query, conn)    \n",
        "print(q)\n",
        "q.head()"
      ],
      "execution_count": 0,
      "outputs": [
        {
          "output_type": "stream",
          "text": [
            "              Movie_Name\n",
            "0             Mastizaade\n",
            "1   Dragonball Evolution\n",
            "2              Loveyatri\n",
            "3                 Race 3\n",
            "4                 Gunday\n",
            "..                   ...\n",
            "80          Bach ke Zara\n",
            "81         Chudail Story\n",
            "82         Suno Sasurjee\n",
            "83           Veerabhadra\n",
            "84       Impatient Vivek\n",
            "\n",
            "[85 rows x 1 columns]\n",
            "CPU times: user 96.2 ms, sys: 7.99 ms, total: 104 ms\n",
            "Wall time: 109 ms\n"
          ],
          "name": "stdout"
        }
      ]
    },
    {
      "cell_type": "code",
      "metadata": {
        "id": "ryYUzpZP9Sfd",
        "colab_type": "code",
        "colab": {}
      },
      "source": [
        ""
      ],
      "execution_count": 0,
      "outputs": []
    },
    {
      "cell_type": "markdown",
      "metadata": {
        "id": "iSI_oSa-zmym",
        "colab_type": "text"
      },
      "source": [
        "## Q1 --- List all the directors who directed a 'Comedy' movie in a leap year. (You need to check that the genre is 'Comedy’ and year is a leap year) Your query should return director name, the movie name, and the year."
      ]
    },
    {
      "cell_type": "code",
      "metadata": {
        "id": "YDh-fdZ3zmyn",
        "colab_type": "code",
        "outputId": "ac08e1e3-bf41-47d1-a7a6-f1705b9a9e44",
        "colab": {
          "base_uri": "https://localhost:8080/",
          "height": 289
        }
      },
      "source": [
        "%%time\n",
        "# Write your sql query below\n",
        "query = \"\"\"\n",
        "        SELECT p.Name,m.title,m.year FROM Movie as m,Person as p,M_Director as md WHERE ((m.year%4=0 AND m.year%100!=0) OR m.year%400=0) AND TRIM(m.MID)=TRIM(md.MID) AND TRIM(p.PID)=TRIM(md.PID) AND TRIM(md.MID) IN\n",
        "        (SELECT TRIM(MID) FROM M_Genre WHERE TRIM(GID) IN \n",
        "        (SELECT TRIM(GID) FROM Genre WHERE Name LIKE '%Comedy%')\n",
        "        )\n",
        "        \n",
        "        \n",
        "        \"\"\"\n",
        "\n",
        "q1 = pd.read_sql_query(query, conn)    \n",
        "print(q1)\n",
        "q1.head()"
      ],
      "execution_count": 0,
      "outputs": [
        {
          "output_type": "stream",
          "text": [
            "                       Name                              title  year\n",
            "0              Milap Zaveri                         Mastizaade  2016\n",
            "1              Danny Leiner  Harold & Kumar Go to White Castle  2004\n",
            "2            Anurag Kashyap                 Gangs of Wasseypur  2012\n",
            "3              Frank Coraci        Around the World in 80 Days  2004\n",
            "4             Griffin Dunne             The Accidental Husband  2008\n",
            "..                      ...                                ...   ...\n",
            "241   Siddharth Anand Kumar                        Let's Enjoy  2004\n",
            "242         Amma Rajasekhar                            Sathyam  2008\n",
            "243           Oliver Paulus                      Tandoori Love  2008\n",
            "244             Raja Chanda                        Le Halua Le  2012\n",
            "245        K.S. Prakash Rao                  Raja Aur Rangeeli  1996\n",
            "\n",
            "[246 rows x 3 columns]\n",
            "CPU times: user 2.28 s, sys: 9.31 ms, total: 2.29 s\n",
            "Wall time: 2.31 s\n"
          ],
          "name": "stdout"
        }
      ]
    },
    {
      "cell_type": "markdown",
      "metadata": {
        "id": "edEkO7vmzmyq",
        "colab_type": "text"
      },
      "source": [
        "## Q2 --- List the names of all the actors who played in the movie 'Anand' (1971)"
      ]
    },
    {
      "cell_type": "code",
      "metadata": {
        "id": "EaKsCsq4zmyr",
        "colab_type": "code",
        "outputId": "0871a049-7033-4ef6-e382-10cd2ebc478f",
        "colab": {
          "base_uri": "https://localhost:8080/",
          "height": 374
        }
      },
      "source": [
        "%%time\n",
        "# Write your sql query below\n",
        "\n",
        "query = \"\"\"\n",
        "         SELECT Name FROM Person WHERE TRIM(PID) IN\n",
        "         (\n",
        "         SELECT TRIM(PID) FROM M_Cast WHERE TRIM(MID) IN\n",
        "        (SELECT TRIM(MID) year FROM Movie WHERE TRIM(title)=\"Anand\")\n",
        "        )\n",
        "        \n",
        "        \"\"\"\n",
        "\n",
        "q2 = pd.read_sql_query(query, conn)    \n",
        "print(q2.shape)\n",
        "print(q2)\n",
        "q2.head()"
      ],
      "execution_count": 0,
      "outputs": [
        {
          "output_type": "stream",
          "text": [
            "(17, 1)\n",
            "                 Name\n",
            "0    Amitabh Bachchan\n",
            "1       Rajesh Khanna\n",
            "2       Sumita Sanyal\n",
            "3          Ramesh Deo\n",
            "4           Seema Deo\n",
            "5      Asit Kumar Sen\n",
            "6          Dev Kishan\n",
            "7        Atam Prakash\n",
            "8       Lalita Kumari\n",
            "9              Savita\n",
            "10     Brahm Bhardwaj\n",
            "11       Gurnam Singh\n",
            "12       Lalita Pawar\n",
            "13        Durga Khote\n",
            "14         Dara Singh\n",
            "15      Johnny Walker\n",
            "16          Moolchand\n",
            "CPU times: user 113 ms, sys: 26.6 ms, total: 139 ms\n",
            "Wall time: 291 ms\n"
          ],
          "name": "stdout"
        }
      ]
    },
    {
      "cell_type": "markdown",
      "metadata": {
        "id": "YE5mwHzNzmyz",
        "colab_type": "text"
      },
      "source": [
        "## Q3 --- List all the actors who acted in a film before 1970 and in a film after 1990. (That is: < 1970 and > 1990.)"
      ]
    },
    {
      "cell_type": "code",
      "metadata": {
        "id": "R0rkqxQizmy0",
        "colab_type": "code",
        "outputId": "0eb259b2-f7c9-498a-98c3-0b15b736b9aa",
        "colab": {
          "base_uri": "https://localhost:8080/",
          "height": 170
        }
      },
      "source": [
        "%%time\n",
        "# Write your sql query below\n",
        "\n",
        "query = \"\"\"\n",
        "        SELECT Name FROM Person WHERE TRIM(PID) in\n",
        "        (SELECT TRIM(PID) FROM M_Cast WHERE TRIM(MID) IS NOT NULL AND TRIM(MID) IN\n",
        "        (SELECT TRIM(MID) FROM Movie WHERE year<1970 OR year>1990) \n",
        "        )\n",
        "        \n",
        "        \"\"\"\n",
        "\n",
        "q3 = pd.read_sql_query(query, conn)    \n",
        "print(q3.shape)\n",
        "print(q3.head())"
      ],
      "execution_count": 0,
      "outputs": [
        {
          "output_type": "stream",
          "text": [
            "(29661, 1)\n",
            "                    Name\n",
            "0         Christian Bale\n",
            "1         Cate Blanchett\n",
            "2   Benedict Cumberbatch\n",
            "3          Naomie Harris\n",
            "4            Andy Serkis\n",
            "CPU times: user 125 ms, sys: 9.66 ms, total: 135 ms\n",
            "Wall time: 140 ms\n"
          ],
          "name": "stdout"
        }
      ]
    },
    {
      "cell_type": "markdown",
      "metadata": {
        "id": "7WLG_g_Tzmy4",
        "colab_type": "text"
      },
      "source": [
        "## Q4 --- List all directors who directed 10 movies or more, in descending order of the number of movies they directed. Return the directors' names and the number of movies each of them directed."
      ]
    },
    {
      "cell_type": "code",
      "metadata": {
        "id": "OKNrp671zmy6",
        "colab_type": "code",
        "outputId": "176f7c9c-a4bc-4887-a6ec-df86aa4f2977",
        "colab": {
          "base_uri": "https://localhost:8080/",
          "height": 1000
        }
      },
      "source": [
        "%%time\n",
        "# Write your sql query below\n",
        "\n",
        "query = \"\"\"\n",
        "        SELECT p.Name,COUNT(TRIM(md.MID)) AS No_of_movies FROM Person AS p,M_Director AS md WHERE TRIM(p.PID)=TRIM(md.PID) GROUP BY TRIM(p.Name)\n",
        "         HAVING COUNT(TRIM(md.MID))>=10 ORDER BY COUNT(TRIM(md.MID)) DESC \n",
        "        \n",
        "        \"\"\"\n",
        "\n",
        "q4 = pd.read_sql_query(query, conn)    \n",
        "print(q4.shape)\n",
        "print(q4)\n",
        "q4.head()"
      ],
      "execution_count": 0,
      "outputs": [
        {
          "output_type": "stream",
          "text": [
            "(58, 2)\n",
            "                         Name  No_of_movies\n",
            "0                David Dhawan            39\n",
            "1                Mahesh Bhatt            36\n",
            "2                Priyadarshan            30\n",
            "3             Ram Gopal Varma            30\n",
            "4                Vikram Bhatt            29\n",
            "5        Hrishikesh Mukherjee            27\n",
            "6                 Yash Chopra            21\n",
            "7             Basu Chatterjee            19\n",
            "8              Shakti Samanta            19\n",
            "9                Subhash Ghai            18\n",
            "10   Abbas Alibhai Burmawalla            17\n",
            "11          Rama Rao Tatineni            17\n",
            "12              Shyam Benegal            17\n",
            "13                     Gulzar            16\n",
            "14             Manmohan Desai            16\n",
            "15               Raj N. Sippy            16\n",
            "16           Mahesh Manjrekar            15\n",
            "17                 Raj Kanwar            15\n",
            "18                Indra Kumar            14\n",
            "19               Rahul Rawail            14\n",
            "20                 Raj Khosla            14\n",
            "21          Rajkumar Santoshi            14\n",
            "22   Ananth Narayan Mahadevan            13\n",
            "23             Anurag Kashyap            13\n",
            "24                  Dev Anand            13\n",
            "25               Harry Baweja            13\n",
            "26         K. Raghavendra Rao            13\n",
            "27              Rakesh Roshan            13\n",
            "28                Vijay Anand            13\n",
            "29               Anees Bazmee            12\n",
            "30                Anil Sharma            12\n",
            "31               Guddu Dhanoa            12\n",
            "32          Madhur Bhandarkar            12\n",
            "33            Nagesh Kukunoor            12\n",
            "34                Prakash Jha            12\n",
            "35              Prakash Mehra            12\n",
            "36               Rohit Shetty            12\n",
            "37             Satish Kaushik            12\n",
            "38                Umesh Mehra            12\n",
            "39            Govind Nihalani            11\n",
            "40                Ketan Mehta            11\n",
            "41                 Mohit Suri            11\n",
            "42              Nasir Hussain            11\n",
            "43         Pramod Chakravorty            11\n",
            "44               Sanjay Gupta            11\n",
            "45                  Bimal Roy            10\n",
            "46               Hansal Mehta            10\n",
            "47              J. Om Prakash            10\n",
            "48                 J.P. Dutta            10\n",
            "49                 K. Bapaiah            10\n",
            "50        K. Muralimohana Rao            10\n",
            "51                Mehul Kumar            10\n",
            "52                 N. Chandra            10\n",
            "53            Pankaj Parashar            10\n",
            "54                 Raj Kapoor            10\n",
            "55              Sudhir Mishra            10\n",
            "56           Tigmanshu Dhulia            10\n",
            "57            Vishal Bhardwaj            10\n",
            "CPU times: user 21.7 s, sys: 12 ms, total: 21.7 s\n",
            "Wall time: 21.8 s\n"
          ],
          "name": "stdout"
        }
      ]
    },
    {
      "cell_type": "markdown",
      "metadata": {
        "id": "f4-eYn4nzmy9",
        "colab_type": "text"
      },
      "source": [
        "## Q5.a --- For each year, count the number of movies in that year that had only female actors."
      ]
    },
    {
      "cell_type": "markdown",
      "metadata": {
        "id": "WFa42RDZF4_Z",
        "colab_type": "text"
      },
      "source": [
        "**SOLUTION 1**  "
      ]
    },
    {
      "cell_type": "code",
      "metadata": {
        "id": "DREKHY-aJVFC",
        "colab_type": "code",
        "outputId": "b9b76eaf-c799-458e-e3de-78a9fc692c6b",
        "colab": {
          "base_uri": "https://localhost:8080/",
          "height": 187
        }
      },
      "source": [
        "%%time\n",
        "query = \"\"\"\n",
        "        SELECT M.YEAR, COUNT(M.MID) AS Number_of_movies_with_only_female_actors \n",
        "        FROM Movie AS M \n",
        "        WHERE M.MID IN \n",
        "        (SELECT X.MID \n",
        "        FROM (SELECT temp.MID AS MID, COUNT(temp.PID) AS TOTAL_CAST FROM M_Cast temp GROUP BY temp.MID) AS X  \n",
        "        WHERE \n",
        "        X.TOTAL_CAST = (SELECT COUNT(A.PID)\n",
        "        FROM M_Cast A, Person B \n",
        "        WHERE A.MID = X.MID AND B.PID = TRIM(A.PID) AND B.Gender = 'Female')\n",
        "        )\n",
        "        GROUP BY M.year\n",
        "        \n",
        "        \"\"\"\n",
        "\n",
        "q5a = pd.read_sql_query(query, conn)    \n",
        "print(q5a.shape)\n",
        "print(q5a)\n"
      ],
      "execution_count": 0,
      "outputs": [
        {
          "output_type": "stream",
          "text": [
            "(6, 2)\n",
            "     year  Number_of_movies_with_only_female_actors\n",
            "0    1939                                         1\n",
            "1    1999                                         1\n",
            "2    2000                                         1\n",
            "3    2009                                         1\n",
            "4    2012                                         1\n",
            "5  I 2018                                         1\n",
            "CPU times: user 40.5 s, sys: 2.05 s, total: 42.5 s\n",
            "Wall time: 42.6 s\n"
          ],
          "name": "stdout"
        }
      ]
    },
    {
      "cell_type": "markdown",
      "metadata": {
        "id": "_SZBA1bGGHfJ",
        "colab_type": "text"
      },
      "source": [
        "**SOLUTION 2**"
      ]
    },
    {
      "cell_type": "code",
      "metadata": {
        "id": "IANbRD4zzRfF",
        "colab_type": "code",
        "outputId": "94063094-3694-4136-8551-eeed8c72b55e",
        "colab": {
          "base_uri": "https://localhost:8080/",
          "height": 204
        }
      },
      "source": [
        "%%time\n",
        "# Write your sql query below\n",
        "query = \"\"\"\n",
        "        SELECT m.year, COUNT(*) AS movies_with_only_female_actors FROM Movie m\n",
        "                                join\n",
        "                                (\n",
        "                                    SElECT DISTINCT MID FROM M_Cast  \n",
        "                                    WHERE MID NOT IN \n",
        "                                    (\n",
        "                                        SELECT mc.MID FROM M_Cast mc \n",
        "                                        JOIN Person p ON p.pid = TRIM(mc.pid)\n",
        "                                        WHERE p.Gender = 'Male'\n",
        "                                    )\n",
        "                                ) AS X ON X.MID = m.MID\n",
        "                                GROUP BY m.year\n",
        "        \"\"\"\n",
        "q5a = pd.read_sql_query(query, conn)    \n",
        "print(q5a.shape)\n",
        "print(q5a)"
      ],
      "execution_count": 0,
      "outputs": [
        {
          "output_type": "stream",
          "text": [
            "(7, 2)\n",
            "     year  movies_with_only_female_actors\n",
            "0    1939                               1\n",
            "1    1999                               1\n",
            "2    2000                               1\n",
            "3    2009                               1\n",
            "4    2012                               1\n",
            "5    2018                               1\n",
            "6  I 2018                               1\n",
            "CPU times: user 170 ms, sys: 5.63 ms, total: 175 ms\n",
            "Wall time: 180 ms\n"
          ],
          "name": "stdout"
        }
      ]
    },
    {
      "cell_type": "markdown",
      "metadata": {
        "id": "2qH_clzdzmzA",
        "colab_type": "text"
      },
      "source": [
        "## Q5.b --- Now include a small change: report for each year the percentage of movies in that year with only female actors, and the total number of movies made that year. For example, one answer will be: 1990 31.81 13522 meaning that in 1990 there were 13,522 movies, and 31.81% had only female actors. You do not need to round your answer."
      ]
    },
    {
      "cell_type": "code",
      "metadata": {
        "id": "zAwu4ZfUzmzB",
        "colab_type": "code",
        "outputId": "ddb810c6-7a35-4f52-9e58-c36f8f2f43ea",
        "colab": {
          "base_uri": "https://localhost:8080/",
          "height": 221
        }
      },
      "source": [
        "%%time\n",
        "# Write your sql query below\n",
        "\n",
        "query = \"\"\"\n",
        "          SELECT M.year,Y.Number_of_movies_with_only_female_actors,(Y.Number_of_movies_with_only_female_actors*100/COUNT(M.MID)*1.0) AS percentage_of_movies_with_only_female_actors,COUNT(M.MID) FROM\n",
        "          (SELECT M.YEAR AS year, COUNT(M.MID) AS Number_of_movies_with_only_female_actors\n",
        "          FROM Movie AS M \n",
        "          WHERE TRIM(M.MID) IN \n",
        "          (SELECT TRIM(X.MID) \n",
        "          FROM (SELECT TRIM(temp.MID) AS MID, COUNT(temp.PID) AS TOTAL_CAST FROM M_Cast temp GROUP BY TRIM(temp.MID)) AS X  \n",
        "          WHERE X.TOTAL_CAST = (SELECT COUNT(TRIM(A.PID)) \n",
        "                                FROM M_Cast A, Person B \n",
        "                                WHERE TRIM(A.MID) = TRIM(X.MID) AND TRIM(B.PID) = TRIM(A.PID) AND B.Gender = 'Female')\n",
        "          )\n",
        "          GROUP BY M.year\n",
        "          ) AS Y,Movie AS M \n",
        "          WHERE Y.year=M.year\n",
        "          GROUP BY M.year\n",
        "        \"\"\"\n",
        "\n",
        "q5b = pd.read_sql_query(query, conn)    \n",
        "print(q5b.shape)\n",
        "print(q5b)\n",
        "q5b.head()"
      ],
      "execution_count": 0,
      "outputs": [
        {
          "output_type": "stream",
          "text": [
            "(6, 4)\n",
            "     year  ...  COUNT(M.MID)\n",
            "0    1939  ...             2\n",
            "1    1999  ...            66\n",
            "2    2000  ...            64\n",
            "3    2009  ...           100\n",
            "4    2012  ...           109\n",
            "5  I 2018  ...            10\n",
            "\n",
            "[6 rows x 4 columns]\n",
            "CPU times: user 3min 51s, sys: 3.23 s, total: 3min 54s\n",
            "Wall time: 3min 54s\n"
          ],
          "name": "stdout"
        }
      ]
    },
    {
      "cell_type": "code",
      "metadata": {
        "id": "AK9wKyd-35PX",
        "colab_type": "code",
        "outputId": "c39158d6-2af0-45e3-aba1-1ab514ae7c30",
        "colab": {
          "base_uri": "https://localhost:8080/",
          "height": 235
        }
      },
      "source": [
        "q5b"
      ],
      "execution_count": 0,
      "outputs": [
        {
          "output_type": "execute_result",
          "data": {
            "text/html": [
              "<div>\n",
              "<style scoped>\n",
              "    .dataframe tbody tr th:only-of-type {\n",
              "        vertical-align: middle;\n",
              "    }\n",
              "\n",
              "    .dataframe tbody tr th {\n",
              "        vertical-align: top;\n",
              "    }\n",
              "\n",
              "    .dataframe thead th {\n",
              "        text-align: right;\n",
              "    }\n",
              "</style>\n",
              "<table border=\"1\" class=\"dataframe\">\n",
              "  <thead>\n",
              "    <tr style=\"text-align: right;\">\n",
              "      <th></th>\n",
              "      <th>year</th>\n",
              "      <th>Number_of_movies_with_only_female_actors</th>\n",
              "      <th>percentage_of_movies_with_only_female_actors</th>\n",
              "      <th>COUNT(M.MID)</th>\n",
              "    </tr>\n",
              "  </thead>\n",
              "  <tbody>\n",
              "    <tr>\n",
              "      <th>0</th>\n",
              "      <td>1939</td>\n",
              "      <td>1</td>\n",
              "      <td>50.0</td>\n",
              "      <td>2</td>\n",
              "    </tr>\n",
              "    <tr>\n",
              "      <th>1</th>\n",
              "      <td>1999</td>\n",
              "      <td>1</td>\n",
              "      <td>1.0</td>\n",
              "      <td>66</td>\n",
              "    </tr>\n",
              "    <tr>\n",
              "      <th>2</th>\n",
              "      <td>2000</td>\n",
              "      <td>1</td>\n",
              "      <td>1.0</td>\n",
              "      <td>64</td>\n",
              "    </tr>\n",
              "    <tr>\n",
              "      <th>3</th>\n",
              "      <td>2009</td>\n",
              "      <td>1</td>\n",
              "      <td>1.0</td>\n",
              "      <td>100</td>\n",
              "    </tr>\n",
              "    <tr>\n",
              "      <th>4</th>\n",
              "      <td>2012</td>\n",
              "      <td>1</td>\n",
              "      <td>0.0</td>\n",
              "      <td>109</td>\n",
              "    </tr>\n",
              "    <tr>\n",
              "      <th>5</th>\n",
              "      <td>I 2018</td>\n",
              "      <td>1</td>\n",
              "      <td>10.0</td>\n",
              "      <td>10</td>\n",
              "    </tr>\n",
              "  </tbody>\n",
              "</table>\n",
              "</div>"
            ],
            "text/plain": [
              "     year  ...  COUNT(M.MID)\n",
              "0    1939  ...             2\n",
              "1    1999  ...            66\n",
              "2    2000  ...            64\n",
              "3    2009  ...           100\n",
              "4    2012  ...           109\n",
              "5  I 2018  ...            10\n",
              "\n",
              "[6 rows x 4 columns]"
            ]
          },
          "metadata": {
            "tags": []
          },
          "execution_count": 20
        }
      ]
    },
    {
      "cell_type": "markdown",
      "metadata": {
        "id": "Lwaau0HAzmzE",
        "colab_type": "text"
      },
      "source": [
        "## Q6 --- Find the film(s) with the largest cast. Return the movie title and the size of the cast. By \"cast size\" we mean the number of distinct actors that played in that movie: if an actor played multiple roles, or if it simply occurs multiple times in casts, we still count her/him only once."
      ]
    },
    {
      "cell_type": "code",
      "metadata": {
        "id": "gNm0bdXyzmzF",
        "colab_type": "code",
        "outputId": "31f5bea6-6be1-4724-ea7f-d40cd1659998",
        "colab": {
          "base_uri": "https://localhost:8080/",
          "height": 102
        }
      },
      "source": [
        "%%time\n",
        "# Write your sql query below\n",
        "\n",
        "query = \"\"\"\n",
        "        SELECT M.title,MAX(X.count_of_casts) AS cast_size\n",
        "        FROM (SELECT MID , COUNT(DISTINCT(PID)) AS count_of_casts FROM M_Cast GROUP BY MID) AS X,Movie AS M\n",
        "        WHERE TRIM(X.MID)=TRIM(M.MID)\n",
        "        \n",
        "        \"\"\"\n",
        "\n",
        "q6 = pd.read_sql_query(query, conn)    \n",
        "print(q6.shape)\n",
        "print(q6)\n"
      ],
      "execution_count": 0,
      "outputs": [
        {
          "output_type": "stream",
          "text": [
            "(1, 2)\n",
            "           title  cast_size\n",
            "0  Ocean's Eight        238\n",
            "CPU times: user 2.09 s, sys: 0 ns, total: 2.09 s\n",
            "Wall time: 2.1 s\n"
          ],
          "name": "stdout"
        }
      ]
    },
    {
      "cell_type": "markdown",
      "metadata": {
        "id": "IoQhmkw2zmzJ",
        "colab_type": "text"
      },
      "source": [
        "## Q7 --- A decade is a sequence of 10 consecutive years. For example, say in your database you have movie information starting from 1965. Then the first decade is 1965, 1966, ..., 1974; the second one is 1967, 1968, ..., 1976 and so on. Find the decade D with the largest number of films and the total number of films in D."
      ]
    },
    {
      "cell_type": "code",
      "metadata": {
        "id": "10lTHScrzmzJ",
        "colab_type": "code",
        "outputId": "5c52314f-d045-407e-82d8-30bd217edb6d",
        "colab": {
          "base_uri": "https://localhost:8080/",
          "height": 102
        }
      },
      "source": [
        "%%time\n",
        "# Write your sql query below\n",
        "\n",
        "query = \"\"\"\n",
        "        SELECT y.year AS Decade_start, y.year + 9 AS decade_end,COUNT(*) AS Number_of__movies\n",
        "        FROM (SELECT DISTINCT year FROM Movie) y join Movie m on m.year >= y.year and m.year < y.year + 10\n",
        "        GROUP BY y.year\n",
        "        ORDER BY COUNT(*) DESC\n",
        "        LIMIT 1\n",
        "        \"\"\"\n",
        "\n",
        "q7 = pd.read_sql_query(query, conn)    \n",
        "print(q7.shape)\n",
        "print(q7)"
      ],
      "execution_count": 0,
      "outputs": [
        {
          "output_type": "stream",
          "text": [
            "(1, 3)\n",
            "  Decade_start  decade_end  Number_of__movies\n",
            "0         2008        2017               1128\n",
            "CPU times: user 89.7 ms, sys: 1.49 ms, total: 91.2 ms\n",
            "Wall time: 94.3 ms\n"
          ],
          "name": "stdout"
        }
      ]
    },
    {
      "cell_type": "markdown",
      "metadata": {
        "id": "--W7PgQ8zmzP",
        "colab_type": "text"
      },
      "source": [
        "## Q8 --- Find all the actors that made more movies with Yash Chopra than any other director."
      ]
    },
    {
      "cell_type": "markdown",
      "metadata": {
        "id": "qk2g5bP_G0EH",
        "colab_type": "text"
      },
      "source": [
        "**SOLUTION 1**"
      ]
    },
    {
      "cell_type": "code",
      "metadata": {
        "id": "HRcgDKfxzmzP",
        "colab_type": "code",
        "outputId": "c26ccd15-f92f-4ca4-eade-d92c68ac68a8",
        "colab": {
          "base_uri": "https://localhost:8080/",
          "height": 136
        }
      },
      "source": [
        "%%time\n",
        "# Write your sql query below\n",
        "\n",
        "query = \"\"\"\n",
        "          SELECT TRIM(X.PID) as PID,P.Name as actor_name,X.no_of_films_with_yash_chopra\n",
        "          FROM (SELECT TRIM(PID) AS PID,COUNT(TRIM(MID)) AS no_of_films_with_yash_chopra FROM M_Cast WHERE TRIM(MID) IN\n",
        "                 (SELECT TRIM(MID) FROM M_Director WHERE TRIM(PID) IN \n",
        "                 (SELECT TRIM(PID) FROM Person WHERE TRIM(Name)=\"Yash Chopra\")) GROUP BY TRIM(PID)) AS X , Person AS p\n",
        "          WHERE X.no_of_films_with_yash_chopra > \n",
        "            (SELECT MAX(no_of_films_with_other_director)\n",
        "          FROM (SELECT TRIM(PID) AS PID,COUNT(TRIM(MID)) AS no_of_films_with_other_director FROM M_Cast AS mc WHERE TRIM(mc.PID)=TRIM(X.PID) AND TRIM(MID) IN\n",
        "                 (SELECT TRIM(MID) FROM M_Director WHERE TRIM(PID) IN \n",
        "                 (SELECT TRIM(PID) FROM Person WHERE TRIM(Name)!=\"Yash Chopra\")) GROUP BY TRIM(mc.PID))\n",
        "              )\n",
        "            AND TRIM(X.PID)=TRIM(p.PID)\n",
        "           \n",
        "        \"\"\"\n",
        "\n",
        "q8 = pd.read_sql_query(query, conn)    \n",
        "print(q8.shape)\n",
        "print(q8)\n",
        "q8.head()"
      ],
      "execution_count": 0,
      "outputs": [
        {
          "output_type": "stream",
          "text": [
            "(3, 3)\n",
            "         PID    actor_name  no_of_films_with_yash_chopra\n",
            "0  nm0007181   Yash Chopra                             2\n",
            "1  nm1767604   Ashok Verma                             2\n",
            "2  nm3163800         Nazir                             2\n",
            "CPU times: user 6.41 s, sys: 441 ms, total: 6.85 s\n",
            "Wall time: 6.87 s\n"
          ],
          "name": "stdout"
        }
      ]
    },
    {
      "cell_type": "markdown",
      "metadata": {
        "id": "YrugzevnG5Da",
        "colab_type": "text"
      },
      "source": [
        "**SOLUTION 2**"
      ]
    },
    {
      "cell_type": "code",
      "metadata": {
        "id": "ZUh5IjnQxlTC",
        "colab_type": "code",
        "outputId": "003712d6-5d85-44af-ec37-5db7161c1071",
        "colab": {
          "base_uri": "https://localhost:8080/",
          "height": 119
        }
      },
      "source": [
        "%%time\n",
        "result_9 = pd.read_sql_query('''\n",
        "                                SELECT b.Actor_Name, b.Yash_Chopra_Directed_Movies \n",
        "                                FROM\n",
        "                                (\n",
        "                                    SELECT DISTINCT TRIM(p.pid) as Actor_Id, \n",
        "                                    TRIM(p.name) as Actor_Name,   \n",
        "                                    COUNT(DISTINCT m.mid) as Non_Yash_Chopra_Directed_Movies \n",
        "                                    FROM Person p \n",
        "                                    JOIN M_Cast mc ON TRIM(mc.pid) = p.pid \n",
        "                                    JOIN Movie m ON m.mid = mc.mid \n",
        "                                    JOIN M_Director md ON md.mid = m.mid \n",
        "                                    JOIN Person p1 ON p1.pid = TRIM(md.pid)\n",
        "                                    WHERE TRIM(p1.name) != 'Yash Chopra'\n",
        "                                    GROUP BY TRIM(p.pid)\n",
        "                                )a\n",
        "                                LEFT JOIN\n",
        "                                (\n",
        "                                    SELECT DISTINCT TRIM(p.pid) as Actor_Id, \n",
        "                                    TRIM(p.name) as Actor_Name,  \n",
        "                                    TRIM(p1.name) as Director_Name, \n",
        "                                    COUNT(DISTINCT m.mid) as Yash_Chopra_Directed_Movies \n",
        "                                    FROM Person p \n",
        "                                    JOIN M_Cast mc ON TRIM(mc.pid) = p.pid \n",
        "                                    JOIN Movie m ON m.mid = mc.mid \n",
        "                                    JOIN M_Director md ON md.mid = m.mid \n",
        "                                    JOIN Person p1 ON p1.pid = TRIM(md.pid)\n",
        "                                    WHERE TRIM(p1.name) = 'Yash Chopra'\n",
        "                                    GROUP BY TRIM(p.pid)\n",
        "                                )b ON a.Actor_Id = b.Actor_Id\n",
        "                                WHERE b.Yash_Chopra_Directed_Movies > a.Non_Yash_Chopra_Directed_Movies\n",
        "                                \n",
        "                                \n",
        "                            ''', conn) \n",
        "print(result_9)"
      ],
      "execution_count": 0,
      "outputs": [
        {
          "output_type": "stream",
          "text": [
            "    Actor_Name  Yash_Chopra_Directed_Movies\n",
            "0  Yash Chopra                            2\n",
            "1  Ashok Verma                            2\n",
            "2        Nazir                            2\n",
            "CPU times: user 948 ms, sys: 22.7 ms, total: 971 ms\n",
            "Wall time: 980 ms\n"
          ],
          "name": "stdout"
        }
      ]
    },
    {
      "cell_type": "markdown",
      "metadata": {
        "id": "_MGmXiMTzmzS",
        "colab_type": "text"
      },
      "source": [
        "## Q9 --- The Shahrukh number of an actor is the length of the shortest path between the actor and Shahrukh Khan in the \"co-acting\" graph. That is, Shahrukh Khan has Shahrukh number 0; all actors who acted in the same film as Shahrukh have Shahrukh number 1; all actors who acted in the same film as some actor with Shahrukh number 1 have Shahrukh number 2, etc. Return all actors whose Shahrukh number is 2."
      ]
    },
    {
      "cell_type": "code",
      "metadata": {
        "id": "njDY9G9zzmzS",
        "colab_type": "code",
        "outputId": "bdd083c7-1f4c-4cdb-c0b5-0283703d6e65",
        "colab": {
          "base_uri": "https://localhost:8080/",
          "height": 68
        }
      },
      "source": [
        "%%time\n",
        "# Write your sql query below\n",
        "\n",
        "query = \"\"\"\n",
        "        WITH \n",
        "    SHAHRUKH_0 AS\n",
        "    (\n",
        "        SELECT\n",
        "            TRIM(P.PID) PID\n",
        "        FROM\n",
        "            Person P\n",
        "        WHERE\n",
        "            TRIM(P.Name) like '%Shahrukh%'\n",
        "    ),\n",
        "    SHAHRUKH_1_MOVIES AS\n",
        "    (\n",
        "        SELECT\n",
        "            DISTINCT\n",
        "            TRIM(MC.MID) MID,\n",
        "            S0.PID\n",
        "        FROM\n",
        "            M_Cast MC,\n",
        "            SHAHRUKH_0 S0\n",
        "        WHERE\n",
        "            TRIM(MC.PID) = S0.PID\n",
        "    ),\n",
        "    SHAHRUKH_1_ACTORS AS\n",
        "    (\n",
        "        SELECT\n",
        "            DISTINCT\n",
        "            TRIM(MC.PID) PID\n",
        "        FROM\n",
        "            M_Cast MC,\n",
        "            SHAHRUKH_1_MOVIES S1M\n",
        "        WHERE\n",
        "            TRIM(MC.MID) = S1M.MID AND\n",
        "            TRIM(MC.PID) <> S1M.PID\n",
        "    ),\n",
        "    SHAHRUKH_2_MOVIES AS\n",
        "    (\n",
        "        SELECT\n",
        "            DISTINCT\n",
        "            TRIM(MC.MID) MID,\n",
        "            S1A.PID\n",
        "        FROM\n",
        "            M_Cast MC,\n",
        "            SHAHRUKH_1_ACTORS S1A\n",
        "        WHERE\n",
        "            TRIM(MC.PID) = S1A.PID\n",
        "    )\n",
        "    SELECT\n",
        "        DISTINCT\n",
        "        TRIM(MC.PID) PID,\n",
        "        TRIM(P.Name) ACTOR_NAME\n",
        "    FROM\n",
        "        Person P,\n",
        "        M_Cast MC,\n",
        "        SHAHRUKH_2_MOVIES S2M\n",
        "    WHERE\n",
        "            TRIM(MC.PID) = TRIM(P.PID) AND\n",
        "            TRIM(MC.MID) = S2M.MID AND\n",
        "            TRIM(MC.PID) <> S2M.PID;\n",
        "        \n",
        "        \"\"\"\n",
        "\n",
        "q9 = pd.read_sql_query(query, conn)    \n",
        "print(q9.shape)\n",
        "q9.head()"
      ],
      "execution_count": 0,
      "outputs": [
        {
          "output_type": "stream",
          "text": [
            "(15911, 2)\n",
            "CPU times: user 9min 6s, sys: 28.9 s, total: 9min 35s\n",
            "Wall time: 9min 36s\n"
          ],
          "name": "stdout"
        }
      ]
    },
    {
      "cell_type": "code",
      "metadata": {
        "id": "F5fIgym4zmzV",
        "colab_type": "code",
        "outputId": "5b073794-2759-48fc-ba1d-3741abcfa1e6",
        "colab": {
          "base_uri": "https://localhost:8080/",
          "height": 255
        }
      },
      "source": [
        "print(q9)"
      ],
      "execution_count": 0,
      "outputs": [
        {
          "output_type": "stream",
          "text": [
            "             PID             ACTOR_NAME\n",
            "0      nm2951768           Freida Pinto\n",
            "1      nm6467532  Caroline Christl Long\n",
            "2      nm6071249          Rajeev Pahuja\n",
            "3      nm3491108      Michelle Santiago\n",
            "4      nm7509518         Jandre le Roux\n",
            "...          ...                    ...\n",
            "15906  nm3099317           Dhruv Shetty\n",
            "15907  nm2371614        Hayley Cleghorn\n",
            "15908  nm2675737        Nirvasha Jithoo\n",
            "15909  nm2370589         Kamal Maharshi\n",
            "15910  nm1866356           Mohini Manik\n",
            "\n",
            "[15911 rows x 2 columns]\n"
          ],
          "name": "stdout"
        }
      ]
    },
    {
      "cell_type": "code",
      "metadata": {
        "id": "hMp-I74GohCF",
        "colab_type": "code",
        "colab": {}
      },
      "source": [
        ""
      ],
      "execution_count": 0,
      "outputs": []
    }
  ]
}